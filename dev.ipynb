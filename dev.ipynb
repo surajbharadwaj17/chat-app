{
 "cells": [
  {
   "cell_type": "code",
   "execution_count": 1,
   "metadata": {},
   "outputs": [],
   "source": [
    "import socket\n",
    "import redis"
   ]
  },
  {
   "cell_type": "code",
   "execution_count": 2,
   "metadata": {},
   "outputs": [],
   "source": [
    "# redis connection\n",
    "pool = redis.ConnectionPool(host='localhost', port=6379, db=0)\n",
    "redis = redis.Redis(connection_pool=pool)\n",
    "\n",
    "# redis.set('mykey', 'Hello from Python!')\n",
    "# value = redis.get('mykey')"
   ]
  },
  {
   "cell_type": "code",
   "execution_count": null,
   "metadata": {},
   "outputs": [],
   "source": [
    "# Client\n",
    "\n",
    "import socket\n",
    "\n",
    "HOST = \"127.0.0.1\"\n",
    "PORT = 60356\n",
    "\n",
    "with socket.socket(socket.AF_INET, socket.SOCK_STREAM) as sock:\n",
    "    sock.connect((HOST, PORT))\n",
    "    sock.sendall(b'Hello bitches!')\n",
    "    data = sock.recv(1024)\n",
    "\n",
    "print(f\"Received data {data}\")"
   ]
  },
  {
   "cell_type": "code",
   "execution_count": 3,
   "metadata": {},
   "outputs": [
    {
     "ename": "KeyboardInterrupt",
     "evalue": "",
     "output_type": "error",
     "traceback": [
      "\u001b[0;31m---------------------------------------------------------------------------\u001b[0m",
      "\u001b[0;31mKeyboardInterrupt\u001b[0m                         Traceback (most recent call last)",
      "Cell \u001b[0;32mIn [3], line 9\u001b[0m\n\u001b[1;32m      7\u001b[0m sock\u001b[39m.\u001b[39mbind((HOST, PORT))\n\u001b[1;32m      8\u001b[0m sock\u001b[39m.\u001b[39mlisten()\n\u001b[0;32m----> 9\u001b[0m con, addr \u001b[39m=\u001b[39m sock\u001b[39m.\u001b[39;49maccept()\n\u001b[1;32m     10\u001b[0m \u001b[39mwith\u001b[39;00m con:\n\u001b[1;32m     11\u001b[0m     \u001b[39mprint\u001b[39m(\u001b[39mf\u001b[39m\u001b[39m\"\u001b[39m\u001b[39mConnected by \u001b[39m\u001b[39m{\u001b[39;00maddr\u001b[39m}\u001b[39;00m\u001b[39m\"\u001b[39m)\n",
      "File \u001b[0;32m/usr/local/Cellar/python@3.10/3.10.7/Frameworks/Python.framework/Versions/3.10/lib/python3.10/socket.py:293\u001b[0m, in \u001b[0;36msocket.accept\u001b[0;34m(self)\u001b[0m\n\u001b[1;32m    286\u001b[0m \u001b[39mdef\u001b[39;00m \u001b[39maccept\u001b[39m(\u001b[39mself\u001b[39m):\n\u001b[1;32m    287\u001b[0m     \u001b[39m\"\"\"accept() -> (socket object, address info)\u001b[39;00m\n\u001b[1;32m    288\u001b[0m \n\u001b[1;32m    289\u001b[0m \u001b[39m    Wait for an incoming connection.  Return a new socket\u001b[39;00m\n\u001b[1;32m    290\u001b[0m \u001b[39m    representing the connection, and the address of the client.\u001b[39;00m\n\u001b[1;32m    291\u001b[0m \u001b[39m    For IP sockets, the address info is a pair (hostaddr, port).\u001b[39;00m\n\u001b[1;32m    292\u001b[0m \u001b[39m    \"\"\"\u001b[39;00m\n\u001b[0;32m--> 293\u001b[0m     fd, addr \u001b[39m=\u001b[39m \u001b[39mself\u001b[39;49m\u001b[39m.\u001b[39;49m_accept()\n\u001b[1;32m    294\u001b[0m     sock \u001b[39m=\u001b[39m socket(\u001b[39mself\u001b[39m\u001b[39m.\u001b[39mfamily, \u001b[39mself\u001b[39m\u001b[39m.\u001b[39mtype, \u001b[39mself\u001b[39m\u001b[39m.\u001b[39mproto, fileno\u001b[39m=\u001b[39mfd)\n\u001b[1;32m    295\u001b[0m     \u001b[39m# Issue #7995: if no default timeout is set and the listening\u001b[39;00m\n\u001b[1;32m    296\u001b[0m     \u001b[39m# socket had a (non-zero) timeout, force the new socket in blocking\u001b[39;00m\n\u001b[1;32m    297\u001b[0m     \u001b[39m# mode to override platform-specific socket flags inheritance.\u001b[39;00m\n",
      "\u001b[0;31mKeyboardInterrupt\u001b[0m: "
     ]
    }
   ],
   "source": [
    "# Socket programming in python\n",
    "\n",
    "HOST = \"127.0.0.1\"\n",
    "PORT = 60356\n",
    "\n",
    "with socket.socket(socket.AF_INET, socket.SOCK_STREAM) as sock:\n",
    "    sock.bind((HOST, PORT))\n",
    "    sock.listen()\n",
    "    con, addr = sock.accept()\n",
    "    with con:\n",
    "        print(f\"Connected by {addr}\")\n",
    "        while True:\n",
    "            data = con.recv(1024)\n",
    "            if not data:\n",
    "                break\n",
    "            con.sendall(data)"
   ]
  },
  {
   "cell_type": "code",
   "execution_count": null,
   "metadata": {},
   "outputs": [],
   "source": []
  },
  {
   "cell_type": "code",
   "execution_count": null,
   "metadata": {},
   "outputs": [],
   "source": []
  }
 ],
 "metadata": {
  "kernelspec": {
   "display_name": "Python 3.10.7 64-bit",
   "language": "python",
   "name": "python3"
  },
  "language_info": {
   "codemirror_mode": {
    "name": "ipython",
    "version": 3
   },
   "file_extension": ".py",
   "mimetype": "text/x-python",
   "name": "python",
   "nbconvert_exporter": "python",
   "pygments_lexer": "ipython3",
   "version": "3.10.7"
  },
  "orig_nbformat": 4,
  "vscode": {
   "interpreter": {
    "hash": "aee8b7b246df8f9039afb4144a1f6fd8d2ca17a180786b69acc140d282b71a49"
   }
  }
 },
 "nbformat": 4,
 "nbformat_minor": 2
}
